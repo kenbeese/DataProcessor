{
 "metadata": {
  "name": "",
  "signature": "sha256:4503d326520aacd5487b76f7ed29b430cc32f4f6e4ff5e57c07035787837a6ed"
 },
 "nbformat": 3,
 "nbformat_minor": 0,
 "worksheets": [
  {
   "cells": [
    {
     "cell_type": "code",
     "collapsed": false,
     "input": [],
     "language": "python",
     "metadata": {},
     "outputs": []
    }
   ],
   "metadata": {}
  }
 ]
}